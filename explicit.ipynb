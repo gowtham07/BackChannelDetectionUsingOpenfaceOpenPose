{
 "cells": [
  {
   "cell_type": "code",
   "execution_count": 70,
   "metadata": {
    "colab": {
     "base_uri": "https://localhost:8080/"
    },
    "id": "1iQPZzK4zvxA",
    "outputId": "33c2043f-38ce-43e5-a5a4-c2f35cdb79a6"
   },
   "outputs": [],
   "source": [
    "import numpy as np\n",
    "import os\n",
    "import csv\n",
    "import pandas as pd\n",
    "import pandas as pd\n",
    "from sklearn import preprocessing\n"
   ]
  },
  {
   "cell_type": "code",
   "execution_count": 71,
   "metadata": {
    "colab": {
     "base_uri": "https://localhost:8080/"
    },
    "id": "XrqXct6V0zkR",
    "outputId": "82705cc6-a12b-4bb8-c1f5-29e1682b7ab7"
   },
   "outputs": [
    {
     "name": "stdout",
     "output_type": "stream",
     "text": [
      "['id', 'label']\n",
      "['6716_val_rec27_pos4', '1']\n"
     ]
    }
   ],
   "source": [
    "rows = []\n",
    "\n",
    "rows_test = []\n",
    "with open(\"/Users/gowthamkrishnaaddluri/Documents/summer_2022/ml_ssp/extraction/bc_detection_train.csv\", 'r') as file:\n",
    "    csvreader = csv.reader(file)\n",
    "    header = next(csvreader)\n",
    "    for row in csvreader:\n",
    "        rows.append(row)\n",
    "with open(\"/Users/gowthamkrishnaaddluri/Documents/summer_2022/ml_ssp/extraction/bc_detection_val.csv\", 'r') as file:\n",
    "    csvreader = csv.reader(file)\n",
    "    header = next(csvreader)\n",
    "    for row in csvreader:\n",
    "        rows_test.append(row)\n"
   ]
  },
  {
   "cell_type": "code",
   "execution_count": 75,
   "metadata": {
    "id": "9zm-s-_IVYXl"
   },
   "outputs": [],
   "source": [
    "path = '/Volumes/Samsung_T5/ssp/MultiMediate22_features/backchannel/openface/'\n",
    "path1 = '/Volumes/Samsung_T5/ssp/MultiMediate22_features/backchannel/features_ext/'\n",
    "features = [' gaze_0_x',' gaze_0_y',' gaze_0_z',' gaze_1_x',' gaze_1_y',' gaze_1_z',' gaze_angle_x',' gaze_angle_y',' pose_Tx',' pose_Ty',' pose_Tz',' pose_Rx',' pose_Ry', ' pose_Rz',' AU01_r', ' AU02_r',' AU04_r',' AU05_r', ' AU06_r',' AU07_r',' AU09_r',' AU10_r',' AU12_r',' AU14_r',' AU15_r',' AU17_r',' AU20_r',' AU23_r', ' AU25_r',' AU26_r', ' AU45_r']\n",
    "feat = [' AU01_r', ' AU02_r',' AU04_r',' AU05_r', ' AU06_r',' AU07_r',' AU09_r',' AU10_r',' AU12_r',' AU14_r',' AU15_r',' AU17_r',' AU20_r',' AU23_r', ' AU25_r',' AU26_r', ' AU45_r']"
   ]
  },
  {
   "cell_type": "code",
   "execution_count": 56,
   "metadata": {},
   "outputs": [
    {
     "name": "stdout",
     "output_type": "stream",
     "text": [
      "2853\n"
     ]
    }
   ],
   "source": [
    "# print(df.columns.tolist())\n",
    "print(len(rows_test))"
   ]
  },
  {
   "cell_type": "code",
   "execution_count": 80,
   "metadata": {
    "id": "kl0PwBuTVPs8"
   },
   "outputs": [
    {
     "name": "stdout",
     "output_type": "stream",
     "text": [
      "(2853, 48)\n"
     ]
    }
   ],
   "source": [
    "\n",
    "ll = [' pose_Tx',' pose_Ty',' pose_Tz']\n",
    "def normalize(df):\n",
    "    result = df.copy()\n",
    "    for feature_name in df.columns:\n",
    "        if feature_name in ll:\n",
    "            max_value = df[feature_name].max()\n",
    "            min_value = df[feature_name].min()\n",
    "            result[feature_name] = (df[feature_name] - min_value) / (max_value - min_value)\n",
    "    return result\n",
    "\n",
    "\n",
    "li = []\n",
    "i = 0\n",
    "arr = []\n",
    "\n",
    "for filename in rows_test:\n",
    "    i = i+1\n",
    "    df = pd.read_csv(path+filename[0]+'_video.csv', index_col=None, header=0)\n",
    "    df = df[features]\n",
    "    df = df.iloc[-30:]\n",
    "    \n",
    "    au_cols = [' AU01_r', ' AU02_r',' AU04_r',' AU05_r', ' AU06_r',' AU07_r',' AU09_r',' AU10_r',' AU12_r',' AU14_r',' AU15_r',' AU17_r',' AU20_r',' AU23_r', ' AU25_r',' AU26_r', ' AU45_r']\n",
    "    gaze_cols = [' gaze_0_x',' gaze_0_y',' gaze_0_z',' gaze_1_x',' gaze_1_y',' gaze_1_z',' gaze_angle_x',' gaze_angle_y']\n",
    "    gaze_diffmean = (df[gaze_cols]-df[gaze_cols].shift()).abs().mean()\n",
    "    gaze_diffmean.index = ['GAZEDIFF_'+x for x in gaze_diffmean.index]\n",
    "    aus_mean = df[au_cols].mean()\n",
    "    aus_mean.index = ['AUSRMEAN_'+x for x in aus_mean.index]\n",
    "    aus_diffmean = (df[au_cols]-df[au_cols].shift()).abs().mean()\n",
    "    aus_diffmean.index = ['AUSRDIFF_'+x for x in aus_diffmean.index]\n",
    "    head_cols = [' pose_Tx',' pose_Ty',' pose_Tz',' pose_Rx',' pose_Ry',' pose_Rz']\n",
    "    head_diffmean = (df[head_cols]-df[head_cols].shift()).abs().mean()\n",
    "    head_diffmean.index = ['HEADDIFF_'+x for x in head_diffmean.index]\n",
    "    \n",
    "    df = pd.DataFrame()\n",
    "    df[aus_mean.index[0]] = [aus_mean[0]]\n",
    "    df[aus_mean.index[1]] = [aus_mean[1]]\n",
    "    df[aus_mean.index[2]] = [aus_mean[2]]\n",
    "    df[aus_mean.index[3]] = [aus_mean[3]]\n",
    "    df[aus_mean.index[4]] = [aus_mean[4]]\n",
    "    df[aus_mean.index[5]] = [aus_mean[5]]\n",
    "    df[aus_mean.index[6]] = [aus_mean[6]]\n",
    "    df[aus_mean.index[7]] = [aus_mean[7]]\n",
    "    df[aus_mean.index[8]] = [aus_mean[8]]\n",
    "    df[aus_mean.index[9]] = [aus_mean[9]]\n",
    "    df[aus_mean.index[10]] = [aus_mean[10]]\n",
    "    df[aus_mean.index[11]] = [aus_mean[11]]\n",
    "    df[aus_mean.index[12]] = [aus_mean[12]]\n",
    "    df[aus_mean.index[13]] = [aus_mean[13]]\n",
    "    df[aus_mean.index[14]] = [aus_mean[14]]\n",
    "    df[aus_mean.index[15]] = [aus_mean[15]]\n",
    "    df[aus_mean.index[16]] = [aus_mean[16]]\n",
    "    \n",
    "    df[aus_diffmean.index[0]] = [aus_diffmean[0]]\n",
    "    df[aus_diffmean.index[1]] = [aus_diffmean[1]]\n",
    "    df[aus_diffmean.index[2]] = [aus_diffmean[2]]\n",
    "    df[aus_diffmean.index[3]] = [aus_diffmean[3]]\n",
    "    df[aus_diffmean.index[4]] = [aus_diffmean[4]]\n",
    "    df[aus_diffmean.index[5]] = [aus_diffmean[5]]\n",
    "    df[aus_diffmean.index[6]] = [aus_diffmean[6]]\n",
    "    df[aus_diffmean.index[7]] = [aus_diffmean[7]]\n",
    "    df[aus_diffmean.index[8]] = [aus_diffmean[8]]\n",
    "    df[aus_diffmean.index[9]] = [aus_diffmean[9]]\n",
    "    df[aus_diffmean.index[10]] = [aus_diffmean[10]]\n",
    "    df[aus_diffmean.index[11]] = [aus_diffmean[11]]\n",
    "    df[aus_diffmean.index[12]] = [aus_diffmean[12]]\n",
    "    df[aus_diffmean.index[13]] = [aus_diffmean[13]]\n",
    "    df[aus_diffmean.index[14]] = [aus_diffmean[14]]\n",
    "    df[aus_diffmean.index[15]] = [aus_diffmean[15]]\n",
    "    df[aus_diffmean.index[16]] = [aus_diffmean[16]]\n",
    "    \n",
    "    \n",
    "   \n",
    "# #     head_cols = [' pose_Tx',' pose_Ty',' pose_Tz',' pose_Rx',' pose_Ry',' pose_Rz']\n",
    "# #     head_diffmean = (df[head_cols]-df[head_cols].shift()).abs().mean()\n",
    "#     df = pd.DataFrame()\n",
    "    \n",
    "    df[head_diffmean.index[0]] = [head_diffmean[0]]\n",
    "    df[head_diffmean.index[1]] = [head_diffmean[1]]\n",
    "    df[head_diffmean.index[2]] = [head_diffmean[2]]\n",
    "    df[head_diffmean.index[3]] = [head_diffmean[3]]\n",
    "    df[head_diffmean.index[4]] = [head_diffmean[4]]\n",
    "    df[head_diffmean.index[5]] = [head_diffmean[5]]\n",
    "    \n",
    "     \n",
    "    df[gaze_diffmean.index[0]] = [gaze_diffmean[0]]\n",
    "    df[gaze_diffmean.index[1]] = [gaze_diffmean[1]]\n",
    "    df[gaze_diffmean.index[2]] = [gaze_diffmean[2]]\n",
    "    df[gaze_diffmean.index[3]] = [gaze_diffmean[3]]\n",
    "    df[gaze_diffmean.index[4]] = [gaze_diffmean[4]]\n",
    "    df[gaze_diffmean.index[5]] = [gaze_diffmean[5]]\n",
    "    df[gaze_diffmean.index[6]] = [gaze_diffmean[6]]\n",
    "    df[gaze_diffmean.index[7]] = [gaze_diffmean[7]]\n",
    "\n",
    "# uncomment the below code to normalize data    \n",
    "#     #df = normalize(df)\n",
    "#     x = df.values #returns a numpy array\n",
    "#     min_max_scaler = preprocessing.MinMaxScaler()\n",
    "#     x_scaled = min_max_scaler.fit_transform(x)\n",
    "#     df = pd.DataFrame(x_scaled)\n",
    "\n",
    "#     arr = df.to_numpy()\n",
    "    if i == 1:\n",
    "        arr = df.to_numpy()\n",
    "        #arr = arr.reshape((1,arr.shape[0], arr.shape[1]))\n",
    "    else:\n",
    "        arr1 = df.to_numpy()\n",
    "        #arr1 = arr1.reshape((1,arr1.shape[0], arr1.shape[1]))\n",
    "        arr = np.concatenate([arr,arr1])\n",
    "print(arr.shape)        \n",
    "np.save(path1+'combined_explicit_gaze_pose_AU_full_data_test.npy', arr)       \n",
    "\n",
    "#un comment this to accumulate lables for test and train\n",
    "# for filename in rows:\n",
    "#      arr.append(int(filename[1]))\n",
    "               \n",
    "# arr = np.asarray(arr)   \n",
    "# print(arr.shape)\n",
    "# np.save(path1+'combined_explicit_gze_pose_train_labels.npy', arr)     \n",
    "\n"
   ]
  },
  {
   "cell_type": "code",
   "execution_count": 4,
   "metadata": {
    "id": "suTMicMWXt_W"
   },
   "outputs": [],
   "source": []
  },
  {
   "cell_type": "code",
   "execution_count": 5,
   "metadata": {
    "id": "qovBg2NTdfn-"
   },
   "outputs": [],
   "source": []
  },
  {
   "cell_type": "code",
   "execution_count": 6,
   "metadata": {
    "id": "mrVzI2SFbeCN"
   },
   "outputs": [],
   "source": []
  },
  {
   "cell_type": "code",
   "execution_count": null,
   "metadata": {
    "colab": {
     "base_uri": "https://localhost:8080/"
    },
    "id": "AhlJUDqHzgno",
    "outputId": "f1e84b3f-5f52-4312-ab54-584f87ab2a4f"
   },
   "outputs": [],
   "source": []
  },
  {
   "cell_type": "code",
   "execution_count": null,
   "metadata": {
    "id": "ufkXcUTBzxPQ"
   },
   "outputs": [],
   "source": []
  },
  {
   "cell_type": "code",
   "execution_count": null,
   "metadata": {
    "id": "xPU2kQ2-H1xz"
   },
   "outputs": [],
   "source": []
  },
  {
   "cell_type": "code",
   "execution_count": null,
   "metadata": {
    "colab": {
     "base_uri": "https://localhost:8080/"
    },
    "id": "1uAaLjViAyzs",
    "outputId": "5b52017b-4fea-487c-bedd-d9f174250b99"
   },
   "outputs": [],
   "source": []
  },
  {
   "cell_type": "code",
   "execution_count": null,
   "metadata": {
    "id": "dS2YCB1KDMbt"
   },
   "outputs": [],
   "source": []
  },
  {
   "cell_type": "code",
   "execution_count": null,
   "metadata": {
    "colab": {
     "base_uri": "https://localhost:8080/"
    },
    "id": "95g2sBrkUoYn",
    "outputId": "8f7c19e4-dc2c-4cc0-d54e-618440c955d4"
   },
   "outputs": [],
   "source": []
  },
  {
   "cell_type": "code",
   "execution_count": null,
   "metadata": {},
   "outputs": [],
   "source": []
  }
 ],
 "metadata": {
  "accelerator": "GPU",
  "colab": {
   "collapsed_sections": [],
   "machine_shape": "hm",
   "name": "video_only_lstm_balanced.ipynb",
   "provenance": []
  },
  "gpuClass": "standard",
  "kernelspec": {
   "display_name": "Python 3.8.5 64-bit ('base': conda)",
   "language": "python",
   "name": "python385jvsc74a57bd0dca0ade3e726a953b501b15e8e990130d2b7799f14cfd9f4271676035ebe5511"
  },
  "language_info": {
   "codemirror_mode": {
    "name": "ipython",
    "version": 3
   },
   "file_extension": ".py",
   "mimetype": "text/x-python",
   "name": "python",
   "nbconvert_exporter": "python",
   "pygments_lexer": "ipython3",
   "version": "3.8.5"
  }
 },
 "nbformat": 4,
 "nbformat_minor": 1
}