{
 "cells": [
  {
   "cell_type": "code",
   "execution_count": 5,
   "metadata": {
    "colab": {
     "base_uri": "https://localhost:8080/"
    },
    "id": "1iQPZzK4zvxA",
    "outputId": "33c2043f-38ce-43e5-a5a4-c2f35cdb79a6"
   },
   "outputs": [],
   "source": [
    "import numpy as np\n",
    "import os\n",
    "import csv\n",
    "import pandas as pd\n",
    "import pandas as pd\n",
    "from sklearn import preprocessing\n"
   ]
  },
  {
   "cell_type": "code",
   "execution_count": 10,
   "metadata": {},
   "outputs": [],
   "source": [
    "\n",
    "\n",
    "def normalize(df):\n",
    "    result = df.copy()\n",
    "    for feature_name in df.columns:\n",
    "        if feature_name in ll:\n",
    "            max_value = df[feature_name].max()\n",
    "            min_value = df[feature_name].min()\n",
    "            result[feature_name] = (df[feature_name] - min_value) / (max_value - min_value)\n",
    "    return result\n",
    "\n",
    "\n",
    "def features_extraction(time_frame,csv_read_path, csv_save_path, rows):\n",
    "    i = 0\n",
    "    arr = []\n",
    "\n",
    "    for filename in rows:\n",
    "        i = i+1\n",
    "        df = pd.read_csv(csv_read_path+filename[0]+'_video.csv', index_col=None, header=0)\n",
    "        df = df[features]\n",
    "        df = df.iloc[-time_frame:]\n",
    "        \n",
    "# **************** add different feature names to extract the data from openface, opensmile or openpose **********************\n",
    "\n",
    "        au_cols = [' AU01_r', ' AU02_r',' AU04_r',' AU05_r', ' AU06_r',' AU07_r',' AU09_r',' AU10_r',' AU12_r',' AU14_r',' AU15_r',' AU17_r',' AU20_r',' AU23_r', ' AU25_r',' AU26_r', ' AU45_r']\n",
    "        gaze_cols = [' gaze_0_x',' gaze_0_y',' gaze_0_z',' gaze_1_x',' gaze_1_y',' gaze_1_z',' gaze_angle_x',' gaze_angle_y']\n",
    "\n",
    "        gaze_diffmean = (df[gaze_cols]-df[gaze_cols].shift()).abs().mean()\n",
    "        gaze_diffmean.index = ['GAZEDIFF_'+x for x in gaze_diffmean.index]\n",
    "\n",
    "        aus_mean = df[au_cols].mean()\n",
    "        aus_mean.index = ['AUSRMEAN_'+x for x in aus_mean.index]\n",
    "\n",
    "        aus_diffmean = (df[au_cols]-df[au_cols].shift()).abs().mean()\n",
    "        aus_diffmean.index = ['AUSRDIFF_'+x for x in aus_diffmean.index]\n",
    "\n",
    "        head_cols = [' pose_Tx',' pose_Ty',' pose_Tz',' pose_Rx',' pose_Ry',' pose_Rz']\n",
    "        head_diffmean = (df[head_cols]-df[head_cols].shift()).abs().mean()\n",
    "        head_diffmean.index = ['HEADDIFF_'+x for x in head_diffmean.index]\n",
    "\n",
    "\n",
    "        df = pd.DataFrame()\n",
    "\n",
    "        aus_length = len(aus_mean.index)\n",
    "        gaze_length = len(gaze_diffmean.index)\n",
    "        head_length = len(head_diffmean.index)\n",
    "\n",
    "        for aus_l in range(aus_length):\n",
    "\n",
    "            df[aus_mean.index[aus_l]] = [aus_mean[aus_l]]\n",
    "\n",
    "\n",
    "            df[aus_diffmean.index[aus_l]] = [aus_diffmean[aus_l]]\n",
    "\n",
    "\n",
    "\n",
    "\n",
    "        for gaze_l in range(gaze_length):\n",
    "\n",
    "            df[gaze_diffmean.index[gaze_l]] = [gaze_diffmean[gaze_l]]\n",
    "\n",
    "\n",
    "        for head_l in range(head_length):\n",
    "\n",
    "            df[head_diffmean.index[head_l]] = [head_diffmean[head_l]]   \n",
    "\n",
    "\n",
    "\n",
    "\n",
    "\n",
    "        if i == 1:\n",
    "            arr = df.to_numpy()\n",
    "            #arr = arr.reshape((1,arr.shape[0], arr.shape[1]))\n",
    "        else:\n",
    "            arr1 = df.to_numpy()\n",
    "            #arr1 = arr1.reshape((1,arr1.shape[0], arr1.shape[1]))\n",
    "            arr = np.concatenate([arr,arr1])\n",
    "\n",
    "    print(arr.shape) \n",
    "\n",
    "    np.save(csv_save_path+'combined_explicit_gaze_pose_AU_full_data_train_'+str(time_frame)+'.npy', arr) \n",
    "    \n",
    "    \n",
    "    \n",
    "    \n",
    "    \n",
    "    \n",
    "    \n",
    "    \n",
    "# ******** the below code is for normalization of data **********\n",
    "\n",
    "# uncomment the below code to normalize data    \n",
    "#     #df = normalize(df)\n",
    "#     x = df.values #returns a numpy array\n",
    "#     min_max_scaler = preprocessing.MinMaxScaler()\n",
    "#     x_scaled = min_max_scaler.fit_transform(x)\n",
    "#     df = pd.DataFrame(x_scaled)\n",
    "\n",
    "#     arr = df.to_numpy()\n",
    "    \n",
    "        \n",
    "\n",
    "\n",
    "\n",
    "#      ******* below code is for saving labels to the npy file ************8\n",
    "\n",
    "#un comment this to accumulate lables for test and train\n",
    "# for filename in rows:\n",
    "#      arr.append(int(filename[1]))\n",
    "               \n",
    "# arr = np.asarray(arr)   \n",
    "# print(arr.shape)\n",
    "# np.save(path1+'combined_explicit_gze_pose_train_labels.npy', arr)     \n",
    "\n",
    "\n"
   ]
  },
  {
   "cell_type": "code",
   "execution_count": 11,
   "metadata": {
    "colab": {
     "base_uri": "https://localhost:8080/"
    },
    "id": "XrqXct6V0zkR",
    "outputId": "82705cc6-a12b-4bb8-c1f5-29e1682b7ab7"
   },
   "outputs": [],
   "source": [
    "rows = []\n",
    "\n",
    "rows_test = []\n",
    "\n",
    "with open(\"/Users/gowthamkrishnaaddluri/Documents/summer_2022/ml_ssp/extraction/bc_detection_train.csv\", 'r') as file:\n",
    "    csvreader = csv.reader(file)\n",
    "    header = next(csvreader)\n",
    "    for row in csvreader:\n",
    "        rows.append(row)\n",
    "        \n",
    "        \n",
    "with open(\"/Users/gowthamkrishnaaddluri/Documents/summer_2022/ml_ssp/extraction/bc_detection_val.csv\", 'r') as file:\n",
    "    csvreader = csv.reader(file)\n",
    "    header = next(csvreader)\n",
    "    for row in csvreader:\n",
    "        rows_test.append(row)\n"
   ]
  },
  {
   "cell_type": "code",
   "execution_count": 12,
   "metadata": {},
   "outputs": [
    {
     "name": "stdout",
     "output_type": "stream",
     "text": [
      "2853\n"
     ]
    }
   ],
   "source": [
    "# print(df.columns.tolist())\n",
    "print(len(rows_test))"
   ]
  },
  {
   "cell_type": "code",
   "execution_count": 14,
   "metadata": {},
   "outputs": [
    {
     "name": "stdout",
     "output_type": "stream",
     "text": [
      "(2853, 48)\n"
     ]
    }
   ],
   "source": [
    "csv_read_path = '/Volumes/Samsung_T5/ssp/MultiMediate22_features/backchannel/openface/'\n",
    "\n",
    "numpy_save_path = '/Volumes/Samsung_T5/ssp/MultiMediate22_features/backchannel/features_ext/'\n",
    "\n",
    "features = [' gaze_0_x',' gaze_0_y',' gaze_0_z',' gaze_1_x',' gaze_1_y',' gaze_1_z',' gaze_angle_x',' gaze_angle_y',' pose_Tx',' pose_Ty',' pose_Tz',' pose_Rx',' pose_Ry', ' pose_Rz',' AU01_r', ' AU02_r',' AU04_r',' AU05_r', ' AU06_r',' AU07_r',' AU09_r',' AU10_r',' AU12_r',' AU14_r',' AU15_r',' AU17_r',' AU20_r',' AU23_r', ' AU25_r',' AU26_r', ' AU45_r']\n",
    "time_frame = 90\n",
    "rows = rows_test\n",
    "features_extraction(time_frame,csv_read_path, numpy_save_path, rows)"
   ]
  },
  {
   "cell_type": "code",
   "execution_count": null,
   "metadata": {},
   "outputs": [],
   "source": []
  }
 ],
 "metadata": {
  "accelerator": "GPU",
  "colab": {
   "collapsed_sections": [],
   "machine_shape": "hm",
   "name": "video_only_lstm_balanced.ipynb",
   "provenance": []
  },
  "gpuClass": "standard",
  "kernelspec": {
   "display_name": "Python 3.8.5 64-bit ('base': conda)",
   "language": "python",
   "name": "python385jvsc74a57bd0dca0ade3e726a953b501b15e8e990130d2b7799f14cfd9f4271676035ebe5511"
  },
  "language_info": {
   "codemirror_mode": {
    "name": "ipython",
    "version": 3
   },
   "file_extension": ".py",
   "mimetype": "text/x-python",
   "name": "python",
   "nbconvert_exporter": "python",
   "pygments_lexer": "ipython3",
   "version": "3.8.5"
  }
 },
 "nbformat": 4,
 "nbformat_minor": 1
}
